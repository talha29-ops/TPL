{
  "nbformat": 4,
  "nbformat_minor": 0,
  "metadata": {
    "colab": {
      "provenance": []
    },
    "kernelspec": {
      "name": "python3",
      "display_name": "Python 3"
    },
    "language_info": {
      "name": "python"
    }
  },
  "cells": [
    {
      "cell_type": "code",
      "execution_count": null,
      "metadata": {
        "id": "weilAfoAITSI"
      },
      "outputs": [],
      "source": [
        "import tkinter as tk\n",
        "import requests\n",
        "from tkinter import ttk\n",
        "\n",
        "window = tk.Tk()\n",
        "window.title(\"Currency Converter\")\n",
        "window.geometry(\"400x250\")\n",
        "\n",
        "instruction_label = tk.Label(window, text=\"Select the currencies and enter the amount to convert:\")\n",
        "instruction_label.grid(row=1)\n",
        "\n",
        "# Fetch the list of currencies from the API\n",
        "url = \"https://openexchangerates.org/api/latest.json?app_id=3a7a1d3d1f97409ab8c24a9d8239808c\"\n",
        "response = requests.get(url)\n",
        "currencies = response.json()['rates']\n",
        "\n",
        "# Create a list of currency codes\n",
        "currency_codes = []\n",
        "for currency_code in currencies:\n",
        "    currency_codes.append(currency_code)\n",
        "\n",
        "# Create a dropdown menu to display the list of currencies\n",
        "from_currency_var = tk.StringVar()\n",
        "from_currency_dropdown = tk.OptionMenu(window, from_currency_var, *currency_codes)\n",
        "from_currency_var.set(\"USD\")\n",
        "from_currency_dropdown.grid(row=2)\n",
        "\n",
        "to_currency_var = tk.StringVar()\n",
        "to_currency_dropdown = tk.OptionMenu(window, to_currency_var, *currency_codes)\n",
        "to_currency_var.set(\"EUR\")\n",
        "to_currency_dropdown.grid(row=3)\n",
        "\n",
        "amount_label = tk.Label(window, text=\"Amount:\")\n",
        "amount_label.grid(row=4)\n",
        "\n",
        "amount_entry = tk.Entry(window)\n",
        "amount_entry.grid(row=5)\n",
        "\n",
        "\n",
        "def convert_currency():\n",
        "    # Fetch the exchange rate from the API\n",
        "    url = \"https://openexchangerates.org/api/latest.json?app_id=3a7a1d3d1f97409ab8c24a9d8239808c\"\n",
        "    response = requests.get(url).json()\n",
        "    exchange_rates = response[\"rates\"]\n",
        "\n",
        "    # Convert the amount to the selected currency\n",
        "    converted_amount = float(amount_entry.get()) * exchange_rates[to_currency_var.get()]\n",
        "\n",
        "    # Display the converted amount\n",
        "    result_label.config(text=\"Converted amount: \" + str(round(converted_amount, 2)) + \" \" + to_currency_var.get())\n",
        "\n",
        "\n",
        "convert_button = tk.Button(window, text=\"Convert\", command=convert_currency)\n",
        "convert_button.grid(row=6)\n",
        "\n",
        "result_label = tk.Label(window)\n",
        "result_label.grid(row=7)\n",
        "\n",
        "\n",
        "def reset_fields():\n",
        "    amount_entry.delete(0, tk.END)\n",
        "    result_label.config(text=\"\")\n",
        "    from_currency_var.set(\"USD\")\n",
        "    to_currency_var.set(\"EUR\")\n",
        "\n",
        "\n",
        "reset_button = tk.Button(window, text=\"Reset\", command=reset_fields)\n",
        "reset_button.grid(row=8)\n",
        "\n",
        "window.mainloop()"
      ]
    }
  ]
}